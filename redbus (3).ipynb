{
  "nbformat": 4,
  "nbformat_minor": 0,
  "metadata": {
    "colab": {
      "provenance": []
    },
    "kernelspec": {
      "name": "python3",
      "display_name": "Python 3"
    },
    "language_info": {
      "name": "python"
    }
  },
  "cells": [
    {
      "cell_type": "code",
      "source": [
        "# Importing libraries\n",
        "import pandas as pd\n",
        "import lightgbm as lgb\n",
        "from sklearn.metrics import mean_squared_error\n",
        "import numpy as np\n",
        "from sklearn.model_selection import train_test_split\n",
        "from sklearn.preprocessing import LabelEncoder"
      ],
      "metadata": {
        "id": "r-nmKJMolcaz"
      },
      "execution_count": null,
      "outputs": []
    },
    {
      "cell_type": "code",
      "source": [
        "# Load files\n",
        "train = pd.read_csv('train.csv')\n",
        "test = pd.read_csv('test.csv')\n",
        "trans = pd.read_csv('transactions.csv')"
      ],
      "metadata": {
        "id": "AxapEYaFlcjp"
      },
      "execution_count": null,
      "outputs": []
    },
    {
      "cell_type": "code",
      "source": [
        "# Keep only data from 15 days before departure\n",
        "trans_15 = trans[trans['dbd'] == 15].copy()"
      ],
      "metadata": {
        "id": "LJwPHFBRlcmd"
      },
      "execution_count": null,
      "outputs": []
    },
    {
      "cell_type": "code",
      "source": [
        "# Feature engineering\n",
        "trans_15['doj'] = pd.to_datetime(trans_15['doj'])\n",
        "trans_15['weekday'] = trans_15['doj'].dt.dayofweek\n",
        "trans_15['month'] = trans_15['doj'].dt.month\n",
        "trans_15['is_weekend'] = trans_15['weekday'].isin([5,6]).astype(int)"
      ],
      "metadata": {
        "id": "qQHKWxW7lcpA"
      },
      "execution_count": null,
      "outputs": []
    },
    {
      "cell_type": "code",
      "source": [
        "# Convert DOJ in both train and trans_15 to datetime\n",
        "train['doj'] = pd.to_datetime(train['doj'])\n",
        "test['doj'] = pd.to_datetime(test['doj'])"
      ],
      "metadata": {
        "id": "4Jn6RiTjlcri"
      },
      "execution_count": null,
      "outputs": []
    },
    {
      "cell_type": "code",
      "source": [
        "# Merge with train/test\n",
        "train_full = train.merge(trans_15, on=['doj', 'srcid', 'destid'], how='left')\n",
        "test_full = test.merge(trans_15, on=['doj', 'srcid', 'destid'], how='left')\n"
      ],
      "metadata": {
        "id": "vlPATyFplzk_"
      },
      "execution_count": null,
      "outputs": []
    },
    {
      "cell_type": "code",
      "source": [
        "# Route-level historical average bookings\n",
        "route_avg = train.groupby(['srcid', 'destid'])['final_seatcount'].mean().reset_index()\n",
        "route_avg.rename(columns={'final_seatcount': 'route_avg_bookings'}, inplace=True)\n"
      ],
      "metadata": {
        "id": "jbRZzY5ZlzoF"
      },
      "execution_count": null,
      "outputs": []
    },
    {
      "cell_type": "code",
      "source": [
        "# Merge route_avg into both train_full and test_full\n",
        "train_full = train_full.merge(route_avg, on=['srcid', 'destid'], how='left')\n",
        "test_full = test_full.merge(route_avg, on=['srcid', 'destid'], how='left')\n"
      ],
      "metadata": {
        "id": "s22OkZYulzrs"
      },
      "execution_count": null,
      "outputs": []
    },
    {
      "cell_type": "code",
      "source": [
        "# Create and encode city_pair\n",
        "train_full['city_pair'] = train_full['srcid'].astype(str) + '_' + train_full['destid'].astype(str)\n",
        "test_full['city_pair'] = test_full['srcid'].astype(str) + '_' + test_full['destid'].astype(str)\n"
      ],
      "metadata": {
        "id": "uLoPXQk5lcuE"
      },
      "execution_count": null,
      "outputs": []
    },
    {
      "cell_type": "code",
      "source": [
        "le = LabelEncoder()\n",
        "train_full['city_pair'] = le.fit_transform(train_full['city_pair'])\n",
        "test_full['city_pair'] = le.transform(test_full['city_pair'])"
      ],
      "metadata": {
        "id": "Y0QINe7hmB2b"
      },
      "execution_count": null,
      "outputs": []
    },
    {
      "cell_type": "code",
      "source": [
        "train_full['log_cumsum_seatcount'] = np.log1p(train_full['cumsum_seatcount'])\n",
        "test_full['log_cumsum_seatcount'] = np.log1p(test_full['cumsum_seatcount'])\n",
        "\n",
        "\n"
      ],
      "metadata": {
        "id": "S-Hxr6KA0u9J"
      },
      "execution_count": null,
      "outputs": []
    },
    {
      "cell_type": "code",
      "source": [
        "# Feature selection\n",
        "features = ['cumsum_seatcount', 'cumsum_searchcount', 'srcid_tier', 'destid_tier',\n",
        "            'srcid_region', 'destid_region', 'weekday', 'month', 'is_weekend', 'city_pair', 'route_avg_bookings', 'log_cumsum_seatcount']\n",
        "target = 'final_seatcount'\n"
      ],
      "metadata": {
        "id": "MG8ndFRXmB5q"
      },
      "execution_count": null,
      "outputs": []
    },
    {
      "cell_type": "code",
      "source": [
        "cat_cols = ['srcid_tier', 'destid_tier', 'srcid_region', 'destid_region']\n",
        "for col in cat_cols:\n",
        "    train_full[col] = train_full[col].astype('category')\n",
        "    test_full[col] = test_full[col].astype('category')\n"
      ],
      "metadata": {
        "id": "FVsHurP9lcxf"
      },
      "execution_count": null,
      "outputs": []
    },
    {
      "cell_type": "code",
      "source": [
        "# Train-validation split\n",
        "X_train, X_val, y_train, y_val = train_test_split(train_full[features], train_full[target], test_size=0.2, random_state=42)"
      ],
      "metadata": {
        "id": "Gew1y9_-mQ39"
      },
      "execution_count": null,
      "outputs": []
    },
    {
      "cell_type": "code",
      "source": [
        "!pip install catboost"
      ],
      "metadata": {
        "colab": {
          "base_uri": "https://localhost:8080/"
        },
        "id": "pAzJzSJ6THWb",
        "outputId": "a792a83e-418c-48e2-d509-9d6d47e27297"
      },
      "execution_count": null,
      "outputs": [
        {
          "output_type": "stream",
          "name": "stdout",
          "text": [
            "Requirement already satisfied: catboost in /usr/local/lib/python3.11/dist-packages (1.2.8)\n",
            "Requirement already satisfied: graphviz in /usr/local/lib/python3.11/dist-packages (from catboost) (0.21)\n",
            "Requirement already satisfied: matplotlib in /usr/local/lib/python3.11/dist-packages (from catboost) (3.10.0)\n",
            "Requirement already satisfied: numpy<3.0,>=1.16.0 in /usr/local/lib/python3.11/dist-packages (from catboost) (2.0.2)\n",
            "Requirement already satisfied: pandas>=0.24 in /usr/local/lib/python3.11/dist-packages (from catboost) (2.2.2)\n",
            "Requirement already satisfied: scipy in /usr/local/lib/python3.11/dist-packages (from catboost) (1.15.3)\n",
            "Requirement already satisfied: plotly in /usr/local/lib/python3.11/dist-packages (from catboost) (5.24.1)\n",
            "Requirement already satisfied: six in /usr/local/lib/python3.11/dist-packages (from catboost) (1.17.0)\n",
            "Requirement already satisfied: python-dateutil>=2.8.2 in /usr/local/lib/python3.11/dist-packages (from pandas>=0.24->catboost) (2.9.0.post0)\n",
            "Requirement already satisfied: pytz>=2020.1 in /usr/local/lib/python3.11/dist-packages (from pandas>=0.24->catboost) (2025.2)\n",
            "Requirement already satisfied: tzdata>=2022.7 in /usr/local/lib/python3.11/dist-packages (from pandas>=0.24->catboost) (2025.2)\n",
            "Requirement already satisfied: contourpy>=1.0.1 in /usr/local/lib/python3.11/dist-packages (from matplotlib->catboost) (1.3.2)\n",
            "Requirement already satisfied: cycler>=0.10 in /usr/local/lib/python3.11/dist-packages (from matplotlib->catboost) (0.12.1)\n",
            "Requirement already satisfied: fonttools>=4.22.0 in /usr/local/lib/python3.11/dist-packages (from matplotlib->catboost) (4.58.4)\n",
            "Requirement already satisfied: kiwisolver>=1.3.1 in /usr/local/lib/python3.11/dist-packages (from matplotlib->catboost) (1.4.8)\n",
            "Requirement already satisfied: packaging>=20.0 in /usr/local/lib/python3.11/dist-packages (from matplotlib->catboost) (24.2)\n",
            "Requirement already satisfied: pillow>=8 in /usr/local/lib/python3.11/dist-packages (from matplotlib->catboost) (11.2.1)\n",
            "Requirement already satisfied: pyparsing>=2.3.1 in /usr/local/lib/python3.11/dist-packages (from matplotlib->catboost) (3.2.3)\n",
            "Requirement already satisfied: tenacity>=6.2.0 in /usr/local/lib/python3.11/dist-packages (from plotly->catboost) (9.1.2)\n"
          ]
        }
      ]
    },
    {
      "cell_type": "code",
      "source": [
        "from catboost import CatBoostRegressor, Pool\n",
        "\n",
        "# Define the Pool (CatBoost's data structure)\n",
        "train_pool = Pool(data=X_train, label=y_train, cat_features=[features.index(f) for f in cat_cols])\n",
        "val_pool = Pool(data=X_val, label=y_val, cat_features=[features.index(f) for f in cat_cols])\n",
        "\n",
        "# Optimized CatBoostRegressor\n",
        "model = CatBoostRegressor(\n",
        "    iterations=4000,              # More iterations\n",
        "    learning_rate=0.03,           # Lower learning rate for better generalization\n",
        "    depth=7,                      # Slightly deeper trees\n",
        "    loss_function='RMSE',         # As required by your leaderboard\n",
        "    eval_metric='RMSE',\n",
        "    early_stopping_rounds=100,    # Stops if no improvement\n",
        "    random_seed=42,\n",
        "    verbose=100\n",
        ")\n",
        "\n",
        "# Train with early stopping\n",
        "model.fit(train_pool, eval_set=val_pool)\n",
        "\n",
        "# Predict\n",
        "val_preds = model.predict(X_val)\n",
        "rmse = np.sqrt(mean_squared_error(y_val, val_preds))\n",
        "print(\"Validation RMSE:\", rmse)\n",
        "\n"
      ],
      "metadata": {
        "colab": {
          "base_uri": "https://localhost:8080/"
        },
        "id": "SCjsmqR5W3-1",
        "outputId": "9ec2e3e1-d501-4d8a-eaae-4e3a9fdb02ff"
      },
      "execution_count": null,
      "outputs": [
        {
          "output_type": "stream",
          "name": "stdout",
          "text": [
            "0:\tlearn: 1169.2687862\ttest: 1175.4739770\tbest: 1175.4739770 (0)\ttotal: 123ms\tremaining: 8m 12s\n",
            "100:\tlearn: 551.4201143\ttest: 551.2399597\tbest: 551.2399597 (100)\ttotal: 7.98s\tremaining: 5m 8s\n",
            "200:\tlearn: 490.0359887\ttest: 492.9143404\tbest: 492.9143404 (200)\ttotal: 13.8s\tremaining: 4m 21s\n",
            "300:\tlearn: 462.0723959\ttest: 468.3007851\tbest: 468.3007851 (300)\ttotal: 21s\tremaining: 4m 17s\n",
            "400:\tlearn: 445.9313398\ttest: 454.7688937\tbest: 454.7688937 (400)\ttotal: 26.9s\tremaining: 4m 1s\n",
            "500:\tlearn: 435.0447009\ttest: 446.4941980\tbest: 446.4941980 (500)\ttotal: 34.4s\tremaining: 4m\n",
            "600:\tlearn: 427.3077315\ttest: 441.3718277\tbest: 441.3718277 (600)\ttotal: 40s\tremaining: 3m 46s\n",
            "700:\tlearn: 421.4449868\ttest: 437.7561707\tbest: 437.7561707 (700)\ttotal: 47.2s\tremaining: 3m 41s\n",
            "800:\tlearn: 417.4846931\ttest: 435.6844526\tbest: 435.6844526 (800)\ttotal: 52.4s\tremaining: 3m 29s\n",
            "900:\tlearn: 413.6779221\ttest: 433.5699302\tbest: 433.5676220 (899)\ttotal: 59.6s\tremaining: 3m 24s\n",
            "1000:\tlearn: 410.3957542\ttest: 432.2334538\tbest: 432.2334538 (1000)\ttotal: 1m 5s\tremaining: 3m 15s\n",
            "1100:\tlearn: 407.2330956\ttest: 430.8574408\tbest: 430.8574408 (1100)\ttotal: 1m 12s\tremaining: 3m 10s\n",
            "1200:\tlearn: 404.7021489\ttest: 429.7718739\tbest: 429.7718739 (1200)\ttotal: 1m 17s\tremaining: 3m 1s\n",
            "1300:\tlearn: 402.0592099\ttest: 428.6265901\tbest: 428.6265901 (1300)\ttotal: 1m 24s\tremaining: 2m 56s\n",
            "1400:\tlearn: 399.5870348\ttest: 427.7176131\tbest: 427.7176131 (1400)\ttotal: 1m 30s\tremaining: 2m 48s\n",
            "1500:\tlearn: 397.4110831\ttest: 426.9908488\tbest: 426.9861832 (1498)\ttotal: 1m 37s\tremaining: 2m 42s\n",
            "1600:\tlearn: 395.3579897\ttest: 426.0985493\tbest: 426.0985493 (1600)\ttotal: 1m 43s\tremaining: 2m 34s\n",
            "1700:\tlearn: 393.5557231\ttest: 425.4962105\tbest: 425.4962105 (1700)\ttotal: 1m 50s\tremaining: 2m 29s\n",
            "1800:\tlearn: 391.9011710\ttest: 425.0141162\tbest: 425.0116116 (1799)\ttotal: 1m 56s\tremaining: 2m 21s\n",
            "1900:\tlearn: 389.9308063\ttest: 424.3325932\tbest: 424.3325932 (1900)\ttotal: 2m 3s\tremaining: 2m 16s\n",
            "2000:\tlearn: 388.3805215\ttest: 423.9041465\tbest: 423.8981643 (1999)\ttotal: 2m 8s\tremaining: 2m 8s\n",
            "2100:\tlearn: 386.6775743\ttest: 423.4181227\tbest: 423.4181227 (2100)\ttotal: 2m 16s\tremaining: 2m 3s\n",
            "2200:\tlearn: 385.0874654\ttest: 422.8811402\tbest: 422.8811402 (2200)\ttotal: 2m 21s\tremaining: 1m 55s\n",
            "2300:\tlearn: 383.6506810\ttest: 422.4099335\tbest: 422.4099335 (2300)\ttotal: 2m 28s\tremaining: 1m 49s\n",
            "2400:\tlearn: 382.3276156\ttest: 421.9489185\tbest: 421.9484473 (2399)\ttotal: 2m 34s\tremaining: 1m 42s\n",
            "2500:\tlearn: 380.9717935\ttest: 421.5657624\tbest: 421.5657624 (2500)\ttotal: 2m 41s\tremaining: 1m 36s\n",
            "2600:\tlearn: 379.6573826\ttest: 421.2685279\tbest: 421.2685279 (2600)\ttotal: 2m 47s\tremaining: 1m 30s\n",
            "2700:\tlearn: 378.3312957\ttest: 420.8319680\tbest: 420.8319680 (2700)\ttotal: 2m 54s\tremaining: 1m 23s\n",
            "2800:\tlearn: 377.0517254\ttest: 420.5815371\tbest: 420.5815371 (2800)\ttotal: 3m\tremaining: 1m 17s\n",
            "2900:\tlearn: 375.9526409\ttest: 420.2715494\tbest: 420.2715494 (2900)\ttotal: 3m 6s\tremaining: 1m 10s\n",
            "3000:\tlearn: 374.8386857\ttest: 419.9722773\tbest: 419.9552474 (2991)\ttotal: 3m 12s\tremaining: 1m 4s\n",
            "3100:\tlearn: 373.5945550\ttest: 419.6642618\tbest: 419.6588273 (3093)\ttotal: 3m 19s\tremaining: 57.8s\n",
            "3200:\tlearn: 372.4858563\ttest: 419.4702435\tbest: 419.4702435 (3200)\ttotal: 3m 25s\tremaining: 51.2s\n",
            "3300:\tlearn: 371.3993637\ttest: 419.2746381\tbest: 419.2746381 (3300)\ttotal: 3m 32s\tremaining: 45s\n",
            "3400:\tlearn: 370.3632304\ttest: 419.0353607\tbest: 419.0353607 (3400)\ttotal: 3m 38s\tremaining: 38.5s\n",
            "3500:\tlearn: 369.2639880\ttest: 418.8739624\tbest: 418.8544225 (3483)\ttotal: 3m 45s\tremaining: 32.1s\n",
            "3600:\tlearn: 368.1638561\ttest: 418.6899372\tbest: 418.6845281 (3594)\ttotal: 3m 51s\tremaining: 25.6s\n",
            "3700:\tlearn: 367.0141292\ttest: 418.5976649\tbest: 418.5895790 (3694)\ttotal: 3m 58s\tremaining: 19.3s\n",
            "3800:\tlearn: 365.9666114\ttest: 418.4349765\tbest: 418.4177013 (3794)\ttotal: 4m 4s\tremaining: 12.8s\n",
            "3900:\tlearn: 364.9941088\ttest: 418.2519013\tbest: 418.2519013 (3900)\ttotal: 4m 12s\tremaining: 6.39s\n",
            "3999:\tlearn: 363.9785510\ttest: 418.1253178\tbest: 418.1253178 (3999)\ttotal: 4m 18s\tremaining: 0us\n",
            "\n",
            "bestTest = 418.1253178\n",
            "bestIteration = 3999\n",
            "\n",
            "Validation RMSE: 418.12531778561305\n"
          ]
        }
      ]
    },
    {
      "cell_type": "code",
      "source": [
        "# Validation RMSE\n",
        "val_preds = model.predict(X_val)\n",
        "rmse = np.sqrt(mean_squared_error(y_val, val_preds))\n",
        "print(\"RMSE on validation set:\", rmse)\n"
      ],
      "metadata": {
        "colab": {
          "base_uri": "https://localhost:8080/"
        },
        "id": "PAxqZWnfoD5M",
        "outputId": "e96399e1-10b7-480d-928d-a945497fa5bd"
      },
      "execution_count": null,
      "outputs": [
        {
          "output_type": "stream",
          "name": "stdout",
          "text": [
            "RMSE on validation set: 418.12531778561305\n"
          ]
        }
      ]
    },
    {
      "cell_type": "code",
      "source": [
        "# Test prediction\n",
        "test_preds = model.predict(test_full[features])\n",
        "test['final_seatcount'] = test_preds\n"
      ],
      "metadata": {
        "id": "64d_Ujz7oEJW"
      },
      "execution_count": null,
      "outputs": []
    },
    {
      "cell_type": "code",
      "source": [
        "# Save submission\n",
        "test[['route_key', 'final_seatcount']].to_csv(\"submission.csv\", index=False)"
      ],
      "metadata": {
        "id": "dxR5k2dloETC"
      },
      "execution_count": null,
      "outputs": []
    }
  ]
}